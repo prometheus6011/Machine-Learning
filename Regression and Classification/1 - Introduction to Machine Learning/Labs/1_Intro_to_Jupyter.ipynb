{
 "cells": [
  {
   "cell_type": "markdown",
   "id": "70d5a01a",
   "metadata": {},
   "source": [
    "# Brief Introduction to Python and Jupyter Notebooks\n",
    "Welcome to the first optional lab! Optional labs are available to:\n",
    "- provide information - like this notebook\n",
    "- reinforce lecture material with hands-on examples\n",
    "- provide working examples of routines used in the graded labs"
   ]
  },
  {
   "cell_type": "markdown",
   "id": "283b4d5a",
   "metadata": {},
   "source": [
    "## Goals\n",
    "In this lab, you will:\n",
    "- Get a brief introduction to Jupyter notebooks\n",
    "- Take a tour of Jupyter notebooks\n",
    "- Learn the difference between markdown cells and code cells\n",
    "- Practice some basic python"
   ]
  },
  {
   "cell_type": "markdown",
   "id": "ce73f4e0",
   "metadata": {},
   "source": [
    "The easiest way to become familiar with Jupyter notebooks is to take the tour available aboce in the Help menu: Help -> User Interface Tour\n",
    "\n",
    "Jupyter Notebooks have two types of cells that are used in this course. Cells such as this which contain documentation called `Markdown Cells`. The name is derived from the simple formatting language used in the cells. You will not be required to produce markdown cells. its useful to understand the `cell pulldown`. Occasionally, a cell will end up in the wrong mode and you may need to restore it to the right state.\n",
    "\n",
    "The other type of cell is the `code cell` where you will write your code:"
   ]
  },
  {
   "cell_type": "code",
   "execution_count": 1,
   "id": "f66e7c90",
   "metadata": {},
   "outputs": [
    {
     "name": "stdout",
     "output_type": "stream",
     "text": [
      "This is code cell\n"
     ]
    }
   ],
   "source": [
    "# This is a 'Code' Cell\n",
    "print(\"This is code cell\")"
   ]
  },
  {
   "cell_type": "markdown",
   "id": "eeff4733",
   "metadata": {},
   "source": [
    "## Python\n",
    "You can write your code in the code cells. To run the code, select the cell and run."
   ]
  },
  {
   "cell_type": "markdown",
   "id": "23701ca2",
   "metadata": {},
   "source": [
    "## Print statement\n",
    "Print statements will generally use the python f-string style\n",
    "\n",
    "Try creating your own print in the following cell.\n",
    "\n",
    "Try both methods of running the cell."
   ]
  },
  {
   "cell_type": "code",
   "execution_count": 2,
   "id": "07d78eb1",
   "metadata": {},
   "outputs": [
    {
     "name": "stdout",
     "output_type": "stream",
     "text": [
      "f strings allow you to embed variables right in the strings!\n"
     ]
    }
   ],
   "source": [
    "# print statements\n",
    "variable = \"right in the strings!\"\n",
    "print(f\"f strings allow you to embed variables {variable}\")"
   ]
  },
  {
   "cell_type": "markdown",
   "id": "3ce73659",
   "metadata": {},
   "source": [
    "## Congratulations!\n",
    "You now know how to find your way around a Jupyter Notebook."
   ]
  }
 ],
 "metadata": {
  "kernelspec": {
   "display_name": "Python 3 (ipykernel)",
   "language": "python",
   "name": "python3"
  },
  "language_info": {
   "codemirror_mode": {
    "name": "ipython",
    "version": 3
   },
   "file_extension": ".py",
   "mimetype": "text/x-python",
   "name": "python",
   "nbconvert_exporter": "python",
   "pygments_lexer": "ipython3",
   "version": "3.9.13"
  }
 },
 "nbformat": 4,
 "nbformat_minor": 5
}
